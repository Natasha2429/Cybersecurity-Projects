{
 "cells": [
  {
   "cell_type": "code",
   "execution_count": 6,
   "id": "8649514a-7d5d-44a5-8dc1-0ef4c0d3ed4d",
   "metadata": {},
   "outputs": [
    {
     "name": "stdout",
     "output_type": "stream",
     "text": [
      "\n",
      "🔐 ADVANCED ENCRYPTION TOOL (AES-256)\n",
      "1️⃣ Encrypt a file\n",
      "2️⃣ Decrypt a file\n",
      "\n"
     ]
    },
    {
     "name": "stdin",
     "output_type": "stream",
     "text": [
      "Select an option (1/2):  1\n",
      "Enter the file path:  C:/Users/RAYI/OneDrive/Documents/message.txt\n",
      "Enter password:  ········\n"
     ]
    },
    {
     "name": "stdout",
     "output_type": "stream",
     "text": [
      "✅ File encrypted and saved as C:/Users/RAYI/OneDrive/Documents/message.txt.enc\n"
     ]
    }
   ],
   "source": [
    "from cryptography.fernet import Fernet\n",
    "import os\n",
    "import hashlib\n",
    "import base64\n",
    "import getpass\n",
    "\n",
    "# ---------- Generate Key from Password ----------\n",
    "def generate_key(password):\n",
    "    digest = hashlib.sha256(password.encode()).digest()\n",
    "    return base64.urlsafe_b64encode(digest)\n",
    "\n",
    "# ---------- Encrypt File ----------\n",
    "def encrypt_file(filename, password):\n",
    "    key = generate_key(password)\n",
    "    fernet = Fernet(key)\n",
    "\n",
    "    try:\n",
    "        with open(filename, 'rb') as file:\n",
    "            data = file.read()\n",
    "        encrypted = fernet.encrypt(data)\n",
    "\n",
    "        with open(filename + \".enc\", 'wb') as enc_file:\n",
    "            enc_file.write(encrypted)\n",
    "\n",
    "        print(f\"✅ File encrypted and saved as {filename}.enc\")\n",
    "\n",
    "    except FileNotFoundError:\n",
    "        print(\"❌ File not found.\")\n",
    "    except Exception as e:\n",
    "        print(f\"⚠️ Error: {e}\")\n",
    "\n",
    "# ---------- Decrypt File ----------\n",
    "def decrypt_file(filename, password):\n",
    "    key = generate_key(password)\n",
    "    fernet = Fernet(key)\n",
    "\n",
    "    try:\n",
    "        with open(filename, 'rb') as enc_file:\n",
    "            encrypted = enc_file.read()\n",
    "        decrypted = fernet.decrypt(encrypted)\n",
    "\n",
    "        original_name = filename.replace(\".enc\", \"\")\n",
    "        with open(original_name + \".dec\", 'wb') as dec_file:\n",
    "            dec_file.write(decrypted)\n",
    "\n",
    "        print(f\"✅ File decrypted and saved as {original_name}.dec\")\n",
    "\n",
    "    except FileNotFoundError:\n",
    "        print(\"❌ File not found.\")\n",
    "    except Exception as e:\n",
    "        print(f\"⚠️ Decryption failed: {e}\")\n",
    "\n",
    "# ---------- CLI ----------\n",
    "def main():\n",
    "    print(\"\"\"\n",
    "🔐 ADVANCED ENCRYPTION TOOL (AES-256)\n",
    "1️⃣ Encrypt a file\n",
    "2️⃣ Decrypt a file\n",
    "\"\"\")\n",
    "    choice = input(\"Select an option (1/2): \").strip()\n",
    "\n",
    "    if choice not in ['1', '2']:\n",
    "        print(\"❌ Invalid choice.\")\n",
    "        return\n",
    "\n",
    "    filepath = input(\"Enter the file path: \").strip()\n",
    "    password = getpass.getpass(\"Enter password: \")\n",
    "\n",
    "    if choice == '1':\n",
    "        encrypt_file(filepath, password)\n",
    "    else:\n",
    "        decrypt_file(filepath, password)\n",
    "\n",
    "if __name__ == \"__main__\":\n",
    "    main()\n",
    "\n"
   ]
  },
  {
   "cell_type": "code",
   "execution_count": null,
   "id": "428ac715-4ba7-49ae-b742-efd55b074be2",
   "metadata": {},
   "outputs": [],
   "source": []
  }
 ],
 "metadata": {
  "kernelspec": {
   "display_name": "Python [conda env:base] *",
   "language": "python",
   "name": "conda-base-py"
  },
  "language_info": {
   "codemirror_mode": {
    "name": "ipython",
    "version": 3
   },
   "file_extension": ".py",
   "mimetype": "text/x-python",
   "name": "python",
   "nbconvert_exporter": "python",
   "pygments_lexer": "ipython3",
   "version": "3.12.7"
  }
 },
 "nbformat": 4,
 "nbformat_minor": 5
}
